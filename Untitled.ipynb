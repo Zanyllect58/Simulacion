{
 "cells": [
  {
   "cell_type": "code",
   "execution_count": 2,
   "id": "76f22aeb-9eed-4252-9e1b-3f406c92bbea",
   "metadata": {},
   "outputs": [],
   "source": [
    "import matplotlib.pyplot as plt\n",
    "import os\n",
    "import pandas as pd\n",
    "import numpy as np\n",
    "from scipy.stats import ks_2samp\n",
    "\n",
    "\n",
    "df = pd.read_excel(os.path.join('dataset', 'Infproc.xlsx'))\n",
    "\n",
    "df['DEBITOS'] = pd.to_numeric(df['DEBITOS'].astype(str).str.replace(',', '', regex=False), errors='coerce')\n",
    "df['SALDO FINAL'] = pd.to_numeric(df['SALDO FINAL'].astype(str).str.replace(',', '', regex=False), errors='coerce')\n",
    "\n",
    "df = df.dropna(subset=['DEBITOS', 'SALDO FINAL'])\n",
    "\n",
    "debitos = df['DEBITOS'].values\n",
    "saldos = df['SALDO FINAL'].values"
   ]
  },
  {
   "cell_type": "code",
   "execution_count": 3,
   "id": "d97642fc-28d8-448f-8446-719ef4cab2c2",
   "metadata": {},
   "outputs": [
    {
     "name": "stdout",
     "output_type": "stream",
     "text": [
      "Tamaño muestra DEBITOS: 179811\n",
      "Media DEBITOS: 9606676.58\n",
      "Mínimo: 0.0, Máximo: 9885767838.232\n",
      "KS real (DEBITOS vs DEBITOS): 0.0000\n",
      "Media KS Bootstrap (DEBITOS): 0.0016\n",
      "Desviación estándar: 0.0006\n",
      "IC 95%: [0.0008, 0.0031]\n"
     ]
    },
    {
     "data": {
      "image/png": "[encoded data removed]",
      "text/plain": [
       "<Figure size 1000x500 with 1 Axes>"
      ]
     },
     "metadata": {},
     "output_type": "display_data"
    }
   ],
   "source": [
    "debitos = df['DEBITOS'].values\n",
    "saldos = df['SALDO FINAL'].values\n",
    "\n",
    "# === Análisis DEBITOS ===\n",
    "print(f\"Tamaño muestra DEBITOS: {len(debitos)}\")\n",
    "print(f\"Media DEBITOS: {np.mean(debitos):.2f}\")\n",
    "print(f\"Mínimo: {np.min(debitos)}, Máximo: {np.max(debitos)}\")\n",
    "\n",
    "ks_real_debitos = ks_2samp(debitos, debitos).statistic\n",
    "print(f\"KS real (DEBITOS vs DEBITOS): {ks_real_debitos:.4f}\")\n",
    "\n",
    "ks_bootstrap_debitos = [\n",
    "    ks_2samp(debitos, np.random.choice(debitos, size=len(debitos), replace=True)).statistic\n",
    "    for _ in range(1000)\n",
    "]\n",
    "\n",
    "print(f\"Media KS Bootstrap (DEBITOS): {np.mean(ks_bootstrap_debitos):.4f}\")\n",
    "print(f\"Desviación estándar: {np.std(ks_bootstrap_debitos):.4f}\")\n",
    "print(f\"IC 95%: [{np.percentile(ks_bootstrap_debitos, 2.5):.4f}, {np.percentile(ks_bootstrap_debitos, 97.5):.4f}]\")\n",
    "\n",
    "# === Gráfica Bootstrap DEBITOS ===\n",
    "plt.figure(figsize=(10,5))\n",
    "plt.hist(ks_bootstrap_debitos, bins=30, alpha=0.7, color='green', edgecolor='black')\n",
    "plt.title(\"Bootstrap KS - DEBITOS\")\n",
    "plt.xlabel(\"Estadístico KS\")\n",
    "plt.ylabel(\"Frecuencia\")\n",
    "plt.grid(True)\n",
    "plt.show()\n"
   ]
  },
  {
   "cell_type": "code",
   "execution_count": null,
   "id": "ce2021ac-96a4-40b6-b442-04520d6aba86",
   "metadata": {},
   "outputs": [
    {
     "name": "stdout",
     "output_type": "stream",
     "text": [
      "\n",
      "Tamaño muestra SALDO FINAL: 179811\n",
      "Media: 33246895.60\n",
      "Desviación estándar: 441090041.61\n",
      "KS real (SALDO vs Simulado): 0.4365\n"
     ]
    }
   ],
   "source": [
    "# === Análisis SALDO FINAL ===\n",
    "print(f\"\\nTamaño muestra SALDO FINAL: {len(saldos)}\")\n",
    "print(f\"Media: {np.mean(saldos):.2f}\")\n",
    "print(f\"Desviación estándar: {np.std(saldos):.2f}\")\n",
    "\n",
    "# Simulación normal\n",
    "media, std = np.mean(saldos), np.std(saldos)\n",
    "simulados = np.random.normal(media, std, len(saldos))\n",
    "\n",
    "ks_real_saldo = ks_2samp(saldos, simulados).statistic\n",
    "print(f\"KS real (SALDO vs Simulado): {ks_real_saldo:.4f}\")\n",
    "\n",
    "# Bootstrap SALDO\n",
    "ks_bootstrap_saldo = [\n",
    "    ks_2samp(\n",
    "        np.random.choice(saldos, len(saldos), replace=True),\n",
    "        np.random.choice(simulados, len(saldos), replace=True)\n",
    "    ).statistic for _ in range(10000)\n",
    "]\n",
    "\n",
    "print(f\"Media KS Bootstrap (SALDO): {np.mean(ks_bootstrap_saldo):.4f}\")\n",
    "print(f\"Desviación estándar: {np.std(ks_bootstrap_saldo):.4f}\")\n",
    "\n"
   ]
  },
  {
   "cell_type": "code",
   "execution_count": null,
   "id": "ae7c164d-5919-4bef-8838-08b4dae5ce8b",
   "metadata": {},
   "outputs": [],
   "source": [
    "# Histograma comparativo\n",
    "plt.figure(figsize=(10,5))\n",
    "plt.hist(saldos, bins=30, alpha=0.5, label='Reales', color='blue', density=True)\n",
    "plt.hist(simulados, bins=30, alpha=0.5, label='Simulados', color='orange', density=True)\n",
    "plt.title(\"Histograma Saldo Final: Reales vs Simulados\")\n",
    "plt.xlabel(\"Saldo Final\")\n",
    "plt.ylabel(\"Densidad\")\n",
    "plt.legend()\n",
    "plt.grid(True)\n",
    "plt.show()\n",
    "\n",
    "# Boxplot comparativo\n",
    "plt.figure(figsize=(8,5))\n",
    "plt.boxplot([saldos, simulados], labels=['Reales', 'Simulados'])\n",
    "plt.title(\"Boxplot Saldo Final\")\n",
    "plt.ylabel(\"Saldo Final\")\n",
    "plt.grid(True)\n",
    "plt.show()"
   ]
  }
 ],
 "metadata": {
  "kernelspec": {
   "display_name": "Python 3 (ipykernel)",
   "language": "python",
   "name": "python3"
  },
  "language_info": {
   "codemirror_mode": {
    "name": "ipython",
    "version": 3
   },
   "file_extension": ".py",
   "mimetype": "text/x-python",
   "name": "python",
   "nbconvert_exporter": "python",
   "pygments_lexer": "ipython3",
   "version": "3.12.7"
  }
 },
 "nbformat": 4,
 "nbformat_minor": 5
}
